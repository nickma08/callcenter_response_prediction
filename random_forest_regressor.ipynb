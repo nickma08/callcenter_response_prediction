{
 "cells": [
  {
   "cell_type": "code",
   "execution_count": 1,
   "metadata": {},
   "outputs": [],
   "source": [
    "from IPython.core.interactiveshell import InteractiveShell\n",
    "InteractiveShell.ast_node_interactivity = \"all\"\n",
    "\n",
    "from scipy.stats import uniform\n",
    "from sklearn.model_selection import RandomizedSearchCV\n",
    "from sklearn.preprocessing import OneHotEncoder\n",
    "from sklearn.preprocessing import normalize\n",
    "import prepare as p\n",
    "import numpy as np\n",
    "import pandas as pd\n",
    "np.set_printoptions(threshold=np.inf)"
   ]
  },
  {
   "cell_type": "code",
   "execution_count": 12,
   "metadata": {},
   "outputs": [],
   "source": [
    "# import data\n",
    "df = p.loadData(\"alldata.csv\", clean=False, alldata=True)\n",
    "\n",
    "# remove call records with purpose 'energy'/'family'\n",
    "df = df[(df.purpose==\"support\")& ~(df.purpose == 'energy') & ~(df.purpose == 'family')]"
   ]
  },
  {
   "cell_type": "code",
   "execution_count": 13,
   "metadata": {},
   "outputs": [
    {
     "data": {
      "text/plain": [
       "False    0.794072\n",
       "True     0.205928\n",
       "Name: contact, dtype: float64"
      ]
     },
     "execution_count": 13,
     "metadata": {},
     "output_type": "execute_result"
    },
    {
     "data": {
      "text/plain": [
       "True     0.5\n",
       "False    0.5\n",
       "Name: contact, dtype: float64"
      ]
     },
     "execution_count": 13,
     "metadata": {},
     "output_type": "execute_result"
    }
   ],
   "source": [
    "import random\n",
    "df.contact.value_counts()/len(df)\n",
    "contact = df[df.contact == 1].sample(1000000)\n",
    "nocontact = df[df.contact == 0].sample(1000000)\n",
    "sample = pd.concat([contact, nocontact]).sample(2000000)\n",
    "sample.contact.value_counts()/len(sample)\n",
    "df = sample"
   ]
  },
  {
   "cell_type": "code",
   "execution_count": 13,
   "metadata": {},
   "outputs": [],
   "source": [
    "# target variable\n",
    "target = df.contact.to_numpy()\n",
    "# encode target as 0 and 1\n",
    "target = np.where(target==True, 1, 0)\n",
    "\n",
    "# predictor variables\n",
    "# extract columns with categorical data\n",
    "categorical = df[['dayofweek','hour','month','purpose']]\n",
    "# extract columns with continuous data\n",
    "continuous = df[['latitude','longitude']].to_numpy()"
   ]
  },
  {
   "cell_type": "code",
   "execution_count": 14,
   "metadata": {},
   "outputs": [],
   "source": [
    "# one hot encode categorical data\n",
    "encode = OneHotEncoder()\n",
    "oneHotCats = encode.fit_transform(categorical).toarray()\n",
    "\n",
    "# concatenate one hot encoded data with continous data\n",
    "data = np.concatenate((oneHotCats, continuous), axis=1)"
   ]
  },
  {
   "cell_type": "code",
   "execution_count": 15,
   "metadata": {},
   "outputs": [],
   "source": [
    "from sklearn import metrics\n",
    "\n",
    "def my_custom_loss_func(y_true, y_pred):\n",
    "    fpr, tpr, thresholds = metrics.roc_curve(y_true, y_pred, pos_label=1)\n",
    "    return(metrics.auc(fpr, tpr))\n",
    "\n",
    "my_scorer = metrics.make_scorer(my_custom_loss_func, greater_is_better=True)"
   ]
  },
  {
   "cell_type": "code",
   "execution_count": 17,
   "metadata": {
    "scrolled": false
   },
   "outputs": [
    {
     "name": "stdout",
     "output_type": "stream",
     "text": [
      "Best PR AUC Score: 0.5\n",
      "Best Hyperparameters: {'max_depth': 4}\n"
     ]
    },
    {
     "data": {
      "text/plain": [
       "array([[0.58443034, 0.41556966],\n",
       "       [0.65547651, 0.34452349],\n",
       "       [0.65604284, 0.34395716],\n",
       "       [0.66194905, 0.33805095],\n",
       "       [0.65779089, 0.34220911]])"
      ]
     },
     "execution_count": 17,
     "metadata": {},
     "output_type": "execute_result"
    }
   ],
   "source": [
    "# specify algorithm\n",
    "from sklearn.ensemble import RandomForestClassifier\n",
    "algorithm = RandomForestClassifier()\n",
    "\n",
    "# define paramater space\n",
    "space = dict()\n",
    "# space['n_estimators'] = [int(x) for x in np.linspace(start = 200, stop = 2000)]\n",
    "# space['max_features'] = ['auto', 'sqrt']\n",
    "space['max_depth'] = [int(x) for x in np.linspace(start = 2, stop = 6)]\n",
    "# space['min_samples_split'] = [2, 5, 10]\n",
    "# space['min_samples_leaf'] = [1, 2, 4]\n",
    "# space['bootstrap'] = [True, False]\n",
    "\n",
    "# choose number of folds\n",
    "n_folds = 3\n",
    "\n",
    "# how many times do you want to sample the paramater space?\n",
    "n_samples = 20\n",
    "\n",
    "# perform hyperparameter tuning with randomised grid search, plus\n",
    "# stratified cross validation\n",
    "clf = RandomizedSearchCV(estimator=algorithm,\n",
    "                        n_iter=n_samples,\n",
    "                        param_distributions=space,\n",
    "                        cv=n_folds,\n",
    "                        scoring=my_scorer,\n",
    "                        random_state=0,\n",
    "                        n_jobs=4,\n",
    "                        pre_dispatch='2*n_jobs')\n",
    "\n",
    "# search for best hyperparameterisation\n",
    "best_model = clf.fit(data, target)\n",
    "\n",
    "print('Best PR AUC Score: %s' % best_model.best_score_)\n",
    "print('Best Hyperparameters: %s' % best_model.best_params_)\n",
    "\n",
    "# the first column in preds is P(no contact | date, time, etc.)\n",
    "# the second column in preds is P(contact | data, time, etc.)\n",
    "preds = best_model.predict_proba(data)\n",
    "# show first 5 rows of preds\n",
    "preds[:5]"
   ]
  },
  {
   "cell_type": "code",
   "execution_count": 18,
   "metadata": {},
   "outputs": [],
   "source": [
    "import pickle\n",
    "filename = 'rf_support_model.p'\n",
    "with open(filename, 'wb') as filehandler:\n",
    "    pickle.dump(best_model, filehandler)"
   ]
  },
  {
   "cell_type": "code",
   "execution_count": 21,
   "metadata": {},
   "outputs": [],
   "source": [
    "import pickle\n",
    "filename = 'rf_support_model.p'\n",
    "model = pickle.load(open(filename, 'rb'))"
   ]
  },
  {
   "cell_type": "code",
   "execution_count": 20,
   "metadata": {},
   "outputs": [],
   "source": [
    "def prep(df):\n",
    "    '''\n",
    "    Input Pandas data frame.\n",
    "    Binarise labels, extract columns, one hot encode categorical variables.\n",
    "    Return targets and data consisting of features as Numpy array.\n",
    "    '''\n",
    "    # target variable\n",
    "    target = df.contact.to_numpy()\n",
    "    # encode target as 0 and 1\n",
    "    target = np.where(target==True, 1, 0)\n",
    "\n",
    "    # predictor variables\n",
    "    # extract columns with categorical data\n",
    "    categorical = df[['dayofweek','hour','month']]\n",
    "    # extract columns with continuous data\n",
    "    # also normalize if needed\n",
    "    continuous = normalize(df[['latitude','longitude']].to_numpy())\n",
    "    \n",
    "    # one hot encode categorical data\n",
    "    encode = OneHotEncoder()\n",
    "    oneHotCats = encode.fit_transform(categorical).toarray()\n",
    "\n",
    "    # concatenate one hot encoded data with continous data\n",
    "    data = np.concatenate((oneHotCats, continuous), axis=1)\n",
    "    \n",
    "    return (target, data)"
   ]
  },
  {
   "cell_type": "code",
   "execution_count": null,
   "metadata": {},
   "outputs": [],
   "source": [
    "# sample some of the data not used for training\n",
    "#test_y, test_x = prep(remaining.sample(1000000))\n",
    "\n",
    "# import data\n",
    "df = p.loadData(\"alldata.csv\", clean=False, alldata=True)\n",
    "\n",
    "# remove call records with purpose 'energy'/'family'\n",
    "df = df[~(df.purpose == 'energy') & ~(df.purpose == 'family')]\n",
    "test_y, test_x = prep(df)"
   ]
  },
  {
   "cell_type": "code",
   "execution_count": 6,
   "metadata": {},
   "outputs": [
    {
     "data": {
      "text/plain": [
       "(13977762, 43)"
      ]
     },
     "execution_count": 6,
     "metadata": {},
     "output_type": "execute_result"
    }
   ],
   "source": [
    "test_x.shape"
   ]
  },
  {
   "cell_type": "code",
   "execution_count": 7,
   "metadata": {},
   "outputs": [
    {
     "ename": "NameError",
     "evalue": "name 'model' is not defined",
     "output_type": "error",
     "traceback": [
      "\u001b[0;31m---------------------------------------------------------------------------\u001b[0m",
      "\u001b[0;31mNameError\u001b[0m                                 Traceback (most recent call last)",
      "\u001b[0;32m<ipython-input-7-bf0f49f83827>\u001b[0m in \u001b[0;36m<module>\u001b[0;34m\u001b[0m\n\u001b[0;32m----> 1\u001b[0;31m \u001b[0mpred_y\u001b[0m \u001b[0;34m=\u001b[0m \u001b[0mmodel\u001b[0m\u001b[0;34m.\u001b[0m\u001b[0mpredict_proba\u001b[0m\u001b[0;34m(\u001b[0m\u001b[0mtest_x\u001b[0m\u001b[0;34m)\u001b[0m\u001b[0;34m[\u001b[0m\u001b[0;34m:\u001b[0m\u001b[0;34m,\u001b[0m\u001b[0;36m1\u001b[0m\u001b[0;34m]\u001b[0m\u001b[0;34m\u001b[0m\u001b[0;34m\u001b[0m\u001b[0m\n\u001b[0m",
      "\u001b[0;31mNameError\u001b[0m: name 'model' is not defined"
     ]
    }
   ],
   "source": [
    "pred_y = model.predict_proba(test_x)[:,1]"
   ]
  },
  {
   "cell_type": "code",
   "execution_count": null,
   "metadata": {},
   "outputs": [],
   "source": [
    "from sklearn.metrics import confusion_matrix\n",
    "precision = []\n",
    "recall = []\n",
    "ps = []\n",
    "baseline = test_y.sum()/len(test_y)\n",
    "for p in np.arange(0,1,0.05):\n",
    "    classify = np.where(pred_y >= p, 1, 0).flatten()\n",
    "    tn, fp, fn, tp = confusion_matrix(test_y, classify).ravel()\n",
    "    precision.append(tp/(tp+fp))\n",
    "    recall.append(tp/(tp+fn))\n",
    "    ps.append(p)"
   ]
  },
  {
   "cell_type": "code",
   "execution_count": null,
   "metadata": {},
   "outputs": [],
   "source": [
    "import matplotlib.pyplot as plt\n",
    "plt.plot(ps, precision, label='precision');\n",
    "plt.plot(ps, recall, label='recall');\n",
    "plt.plot(ps, [baseline]*len(ps), label='baseline');\n",
    "plt.xlabel(\"Classification threshold\")\n",
    "plt.ylabel(\"Precision/recall\")\n",
    "plt.title(\"Precision and recall per classifcation threshold \\n compared to baseline precision\")\n",
    "plt.legend();"
   ]
  },
  {
   "cell_type": "code",
   "execution_count": null,
   "metadata": {},
   "outputs": [],
   "source": [
    "from sklearn import metrics\n",
    "prec, rec, thresholds = metrics.precision_recall_curve(test_y, pred_y.ravel(), pos_label=1)\n",
    "plt.plot(prec, rec)\n",
    "pr_auc = metrics.auc(rec, prec)\n",
    "plt.xlabel(\"Precision\");\n",
    "plt.ylabel(\"Recall\");\n",
    "plt.title(\"Precision recall curve with AUC \" + str(pr_auc)[:6]);"
   ]
  },
  {
   "cell_type": "code",
   "execution_count": null,
   "metadata": {},
   "outputs": [],
   "source": [
    "fpr, tpr, thresholds = metrics.roc_curve(test_y, pred_y.ravel())\n",
    "auc = metrics.auc(fpr, tpr)\n",
    "plt.plot(fpr, tpr);\n",
    "plt.plot([0,1],[0,1], '--', color='grey')\n",
    "plt.xlabel(\"False positive rate\");\n",
    "plt.ylabel(\"True positive rate\");\n",
    "plt.title(\"ROC curve with AUC \" + str(auc)[:6]);"
   ]
  },
  {
   "cell_type": "code",
   "execution_count": null,
   "metadata": {},
   "outputs": [],
   "source": [
    "import pickle\n",
    "filename = 'svc_health_only.p'\n",
    "with open(filename, 'wb') as filehandler:\n",
    "    pickle.dump(preds, filehandler)"
   ]
  },
  {
   "cell_type": "code",
   "execution_count": null,
   "metadata": {},
   "outputs": [],
   "source": [
    "filename = 'svc_health_only_target.p'\n",
    "with open(filename, 'wb') as filehandler:\n",
    "    pickle.dump(target, filehandler)"
   ]
  },
  {
   "cell_type": "code",
   "execution_count": 11,
   "metadata": {},
   "outputs": [
    {
     "data": {
      "text/plain": [
       "2000000"
      ]
     },
     "execution_count": 11,
     "metadata": {},
     "output_type": "execute_result"
    }
   ],
   "source": [
    "contact_preds = preds[:,1]\n",
    "classify = np.where(preds >= 0.5, 1, 0).flatten()\n",
    "# baseline performance where the company assumes everyone will be contactable\n",
    "classify.sum()\n",
    "baseline = target.sum()/len(target)"
   ]
  },
  {
   "cell_type": "code",
   "execution_count": 13,
   "metadata": {},
   "outputs": [
    {
     "data": {
      "text/plain": [
       "711982"
      ]
     },
     "execution_count": 13,
     "metadata": {},
     "output_type": "execute_result"
    },
    {
     "data": {
      "text/plain": [
       "288018"
      ]
     },
     "execution_count": 13,
     "metadata": {},
     "output_type": "execute_result"
    },
    {
     "data": {
      "text/plain": [
       "426444"
      ]
     },
     "execution_count": 13,
     "metadata": {},
     "output_type": "execute_result"
    },
    {
     "data": {
      "text/plain": [
       "573556"
      ]
     },
     "execution_count": 13,
     "metadata": {},
     "output_type": "execute_result"
    },
    {
     "data": {
      "text/plain": [
       "0.6657071824358674"
      ]
     },
     "execution_count": 13,
     "metadata": {},
     "output_type": "execute_result"
    },
    {
     "data": {
      "text/plain": [
       "0.573556"
      ]
     },
     "execution_count": 13,
     "metadata": {},
     "output_type": "execute_result"
    },
    {
     "data": {
      "text/plain": [
       "861574"
      ]
     },
     "execution_count": 13,
     "metadata": {},
     "output_type": "execute_result"
    },
    {
     "name": "stderr",
     "output_type": "stream",
     "text": [
      "<ipython-input-13-262541c1fb97>:18: RuntimeWarning: invalid value encountered in long_scalars\n",
      "  precision.append(tp/(tp+fp))\n"
     ]
    }
   ],
   "source": [
    "from sklearn.metrics import confusion_matrix\n",
    "classify = np.where(contact_preds >= 0.5, 1, 0).flatten()\n",
    "tn, fp, fn, tp = confusion_matrix(target, classify).ravel()\n",
    "tn\n",
    "fp\n",
    "fn\n",
    "tp\n",
    "tp/(tp+fp)\n",
    "tp/(tp+fn)\n",
    "tp+fp\n",
    "\n",
    "precision = []\n",
    "recall = []\n",
    "ps = []\n",
    "for p in np.arange(0,1,0.05):\n",
    "    classify = np.where(contact_preds >= p, 1, 0).flatten()\n",
    "    tn, fp, fn, tp = confusion_matrix(target, classify).ravel()\n",
    "    precision.append(tp/(tp+fp))\n",
    "    recall.append(tp/(tp+fn))\n",
    "    ps.append(p)"
   ]
  },
  {
   "cell_type": "code",
   "execution_count": 17,
   "metadata": {},
   "outputs": [
    {
     "data": {
      "text/plain": [
       "[<matplotlib.lines.Line2D at 0x7fbea7963370>]"
      ]
     },
     "execution_count": 17,
     "metadata": {},
     "output_type": "execute_result"
    },
    {
     "data": {
      "text/plain": [
       "[<matplotlib.lines.Line2D at 0x7fbea7963790>]"
      ]
     },
     "execution_count": 17,
     "metadata": {},
     "output_type": "execute_result"
    },
    {
     "data": {
      "text/plain": [
       "[<matplotlib.lines.Line2D at 0x7fbea7963a90>]"
      ]
     },
     "execution_count": 17,
     "metadata": {},
     "output_type": "execute_result"
    },
    {
     "data": {
      "text/plain": [
       "Text(0.5, 0, 'threshold')"
      ]
     },
     "execution_count": 17,
     "metadata": {},
     "output_type": "execute_result"
    },
    {
     "data": {
      "text/plain": [
       "<matplotlib.legend.Legend at 0x7fbea7963e50>"
      ]
     },
     "execution_count": 17,
     "metadata": {},
     "output_type": "execute_result"
    },
    {
     "data": {
      "image/png": "[encoded data removed]",
      "text/plain": [
       "<Figure size 432x288 with 1 Axes>"
      ]
     },
     "metadata": {
      "needs_background": "light"
     },
     "output_type": "display_data"
    }
   ],
   "source": [
    "import matplotlib.pyplot as plt\n",
    "plt.plot(ps, precision, label='precision');\n",
    "plt.plot(ps, recall, label='recall');\n",
    "plt.plot(ps, [baseline]*len(ps), label='baseline');\n",
    "plt.xlabel(\"threshold\")\n",
    "plt.legend();\n",
    "plt.savefig(\"rf_all_pr.png\")"
   ]
  },
  {
   "cell_type": "code",
   "execution_count": 10,
   "metadata": {},
   "outputs": [],
   "source": [
    "import pickle\n",
    "filename = 'rf_health.p'\n",
    "with open(filename, 'wb') as filehandler:\n",
    "    pickle.dump(preds, filehandler)"
   ]
  },
  {
   "cell_type": "code",
   "execution_count": 11,
   "metadata": {},
   "outputs": [],
   "source": [
    "filename = 'rf_health_target.p'\n",
    "with open(filename, 'wb') as filehandler:\n",
    "    pickle.dump(target, filehandler)"
   ]
  },
  {
   "cell_type": "code",
   "execution_count": 17,
   "metadata": {},
   "outputs": [],
   "source": [
    "import pickle\n",
    "filename = 'rf_all.p'\n",
    "model = pickle.load(open(filename, \"rb\"))"
   ]
  },
  {
   "cell_type": "code",
   "execution_count": null,
   "metadata": {},
   "outputs": [],
   "source": []
  }
 ],
 "metadata": {
  "kernelspec": {
   "display_name": "Python [conda env:Python3] *",
   "language": "python",
   "name": "conda-env-Python3-py"
  },
  "language_info": {
   "codemirror_mode": {
    "name": "ipython",
    "version": 3
   },
   "file_extension": ".py",
   "mimetype": "text/x-python",
   "name": "python",
   "nbconvert_exporter": "python",
   "pygments_lexer": "ipython3",
   "version": "3.8.3"
  }
 },
 "nbformat": 4,
 "nbformat_minor": 2
}
