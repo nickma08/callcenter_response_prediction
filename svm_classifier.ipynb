{
 "cells": [
  {
   "cell_type": "code",
   "execution_count": 32,
   "metadata": {},
   "outputs": [],
   "source": [
    "from IPython.core.interactiveshell import InteractiveShell\n",
    "InteractiveShell.ast_node_interactivity = \"all\"\n",
    "\n",
    "from scipy.stats import uniform\n",
    "from sklearn.model_selection import GridSearchCV\n",
    "from sklearn.preprocessing import OneHotEncoder, normalize\n",
    "import prepare as p\n",
    "import numpy as np\n",
    "import pandas as pd\n",
    "np.set_printoptions(threshold=np.inf)"
   ]
  },
  {
   "cell_type": "code",
   "execution_count": 33,
   "metadata": {},
   "outputs": [],
   "source": [
    "# import data\n",
    "df = p.loadData(\"alldata.csv\", clean=False, alldata=True)\n",
    "\n",
    "# remove call records with purpose 'energy'/'family'\n",
    "df = df[(df.purpose == 'health') & ~(df.purpose == 'energy') & ~(df.purpose == 'family')]"
   ]
  },
  {
   "cell_type": "code",
   "execution_count": 34,
   "metadata": {},
   "outputs": [],
   "source": [
    "def prep(df):\n",
    "    '''\n",
    "    Input Pandas data frame.\n",
    "    Binarise labels, extract columns, one hot encode categorical variables.\n",
    "    Return targets and data consisting of features as Numpy array.\n",
    "    '''\n",
    "    # target variable\n",
    "    target = df.contact.to_numpy()\n",
    "    # encode target as 0 and 1\n",
    "    target = np.where(target==True, 1, 0)\n",
    "\n",
    "    # predictor variables\n",
    "    # extract columns with categorical data\n",
    "    categorical = df[['dayofweek','hour','month', 'purpose']]\n",
    "    # extract columns with continuous data\n",
    "    # also normalize if needed\n",
    "    continuous = normalize(df[['latitude','longitude']].to_numpy())\n",
    "    \n",
    "    # one hot encode categorical data\n",
    "    encode = OneHotEncoder()\n",
    "    oneHotCats = encode.fit_transform(categorical).toarray()\n",
    "\n",
    "    # concatenate one hot encoded data with continous data\n",
    "    data = np.concatenate((oneHotCats, continuous), axis=1)\n",
    "    \n",
    "    return (target, data)"
   ]
  },
  {
   "cell_type": "code",
   "execution_count": 4,
   "metadata": {},
   "outputs": [
    {
     "data": {
      "text/plain": [
       "False    0.710509\n",
       "True     0.289491\n",
       "Name: contact, dtype: float64"
      ]
     },
     "execution_count": 4,
     "metadata": {},
     "output_type": "execute_result"
    },
    {
     "ename": "ValueError",
     "evalue": "Cannot take a larger sample than population when 'replace=False'",
     "output_type": "error",
     "traceback": [
      "\u001b[0;31m---------------------------------------------------------------------------\u001b[0m",
      "\u001b[0;31mValueError\u001b[0m                                Traceback (most recent call last)",
      "\u001b[0;32m<ipython-input-4-92f3a05d9e13>\u001b[0m in \u001b[0;36m<module>\u001b[0;34m\u001b[0m\n\u001b[1;32m      1\u001b[0m \u001b[0;32mimport\u001b[0m \u001b[0mrandom\u001b[0m\u001b[0;34m\u001b[0m\u001b[0;34m\u001b[0m\u001b[0m\n\u001b[1;32m      2\u001b[0m \u001b[0mdf\u001b[0m\u001b[0;34m.\u001b[0m\u001b[0mcontact\u001b[0m\u001b[0;34m.\u001b[0m\u001b[0mvalue_counts\u001b[0m\u001b[0;34m(\u001b[0m\u001b[0;34m)\u001b[0m\u001b[0;34m/\u001b[0m\u001b[0mlen\u001b[0m\u001b[0;34m(\u001b[0m\u001b[0mdf\u001b[0m\u001b[0;34m)\u001b[0m\u001b[0;34m\u001b[0m\u001b[0;34m\u001b[0m\u001b[0m\n\u001b[0;32m----> 3\u001b[0;31m \u001b[0mcontact\u001b[0m \u001b[0;34m=\u001b[0m \u001b[0mdf\u001b[0m\u001b[0;34m[\u001b[0m\u001b[0mdf\u001b[0m\u001b[0;34m.\u001b[0m\u001b[0mcontact\u001b[0m \u001b[0;34m==\u001b[0m \u001b[0;36m1\u001b[0m\u001b[0;34m]\u001b[0m\u001b[0;34m.\u001b[0m\u001b[0msample\u001b[0m\u001b[0;34m(\u001b[0m\u001b[0;36m1000000\u001b[0m\u001b[0;34m)\u001b[0m\u001b[0;34m\u001b[0m\u001b[0;34m\u001b[0m\u001b[0m\n\u001b[0m\u001b[1;32m      4\u001b[0m \u001b[0mnocontact\u001b[0m \u001b[0;34m=\u001b[0m \u001b[0mdf\u001b[0m\u001b[0;34m[\u001b[0m\u001b[0mdf\u001b[0m\u001b[0;34m.\u001b[0m\u001b[0mcontact\u001b[0m \u001b[0;34m==\u001b[0m \u001b[0;36m0\u001b[0m\u001b[0;34m]\u001b[0m\u001b[0;34m.\u001b[0m\u001b[0msample\u001b[0m\u001b[0;34m(\u001b[0m\u001b[0;36m1000000\u001b[0m\u001b[0;34m)\u001b[0m\u001b[0;34m\u001b[0m\u001b[0;34m\u001b[0m\u001b[0m\n\u001b[1;32m      5\u001b[0m \u001b[0msample\u001b[0m \u001b[0;34m=\u001b[0m \u001b[0mpd\u001b[0m\u001b[0;34m.\u001b[0m\u001b[0mconcat\u001b[0m\u001b[0;34m(\u001b[0m\u001b[0;34m[\u001b[0m\u001b[0mcontact\u001b[0m\u001b[0;34m,\u001b[0m \u001b[0mnocontact\u001b[0m\u001b[0;34m]\u001b[0m\u001b[0;34m)\u001b[0m\u001b[0;34m.\u001b[0m\u001b[0msample\u001b[0m\u001b[0;34m(\u001b[0m\u001b[0;36m2000000\u001b[0m\u001b[0;34m)\u001b[0m\u001b[0;34m\u001b[0m\u001b[0;34m\u001b[0m\u001b[0m\n",
      "\u001b[0;32m/opt/anaconda/envs/Python3/lib/python3.8/site-packages/pandas/core/generic.py\u001b[0m in \u001b[0;36msample\u001b[0;34m(self, n, frac, replace, weights, random_state, axis)\u001b[0m\n\u001b[1;32m   5059\u001b[0m             )\n\u001b[1;32m   5060\u001b[0m \u001b[0;34m\u001b[0m\u001b[0m\n\u001b[0;32m-> 5061\u001b[0;31m         \u001b[0mlocs\u001b[0m \u001b[0;34m=\u001b[0m \u001b[0mrs\u001b[0m\u001b[0;34m.\u001b[0m\u001b[0mchoice\u001b[0m\u001b[0;34m(\u001b[0m\u001b[0maxis_length\u001b[0m\u001b[0;34m,\u001b[0m \u001b[0msize\u001b[0m\u001b[0;34m=\u001b[0m\u001b[0mn\u001b[0m\u001b[0;34m,\u001b[0m \u001b[0mreplace\u001b[0m\u001b[0;34m=\u001b[0m\u001b[0mreplace\u001b[0m\u001b[0;34m,\u001b[0m \u001b[0mp\u001b[0m\u001b[0;34m=\u001b[0m\u001b[0mweights\u001b[0m\u001b[0;34m)\u001b[0m\u001b[0;34m\u001b[0m\u001b[0;34m\u001b[0m\u001b[0m\n\u001b[0m\u001b[1;32m   5062\u001b[0m         \u001b[0;32mreturn\u001b[0m \u001b[0mself\u001b[0m\u001b[0;34m.\u001b[0m\u001b[0mtake\u001b[0m\u001b[0;34m(\u001b[0m\u001b[0mlocs\u001b[0m\u001b[0;34m,\u001b[0m \u001b[0maxis\u001b[0m\u001b[0;34m=\u001b[0m\u001b[0maxis\u001b[0m\u001b[0;34m)\u001b[0m\u001b[0;34m\u001b[0m\u001b[0;34m\u001b[0m\u001b[0m\n\u001b[1;32m   5063\u001b[0m \u001b[0;34m\u001b[0m\u001b[0m\n",
      "\u001b[0;32mmtrand.pyx\u001b[0m in \u001b[0;36mnumpy.random.mtrand.RandomState.choice\u001b[0;34m()\u001b[0m\n",
      "\u001b[0;31mValueError\u001b[0m: Cannot take a larger sample than population when 'replace=False'"
     ]
    }
   ],
   "source": [
    "import random\n",
    "df.contact.value_counts()/len(df)\n",
    "contact = df[df.contact == 1].sample(1000000)\n",
    "nocontact = df[df.contact == 0].sample(1000000)\n",
    "sample = pd.concat([contact, nocontact]).sample(2000000)\n",
    "sample.contact.value_counts()/len(sample)\n",
    "df = sample"
   ]
  },
  {
   "cell_type": "code",
   "execution_count": 35,
   "metadata": {},
   "outputs": [],
   "source": [
    "# target variable\n",
    "target = df.contact.to_numpy()\n",
    "# encode target as 0 and 1\n",
    "target = np.where(target==True, 1, 0)\n",
    "\n",
    "# predictor variables\n",
    "# extract columns with categorical data\n",
    "categorical = df[['dayofweek','hour','month','purpose']]\n",
    "# extract columns with continuous data\n",
    "continuous = df[['latitude','longitude']].to_numpy()"
   ]
  },
  {
   "cell_type": "code",
   "execution_count": 36,
   "metadata": {},
   "outputs": [],
   "source": [
    "from sklearn.preprocessing import StandardScaler\n",
    "scaler = StandardScaler()\n",
    "continuous = scaler.fit_transform(continuous)"
   ]
  },
  {
   "cell_type": "code",
   "execution_count": 37,
   "metadata": {},
   "outputs": [],
   "source": [
    "# one hot encode categorical data\n",
    "encode = OneHotEncoder()\n",
    "oneHotCats = encode.fit_transform(categorical).toarray()\n",
    "\n",
    "# concatenate one hot encoded data with continous data\n",
    "data = np.concatenate((oneHotCats, continuous), axis=1)"
   ]
  },
  {
   "cell_type": "code",
   "execution_count": 38,
   "metadata": {},
   "outputs": [],
   "source": [
    "from sklearn import metrics\n",
    "\n",
    "def my_custom_loss_func(y_true, y_pred):\n",
    "    fpr, tpr, thresholds = metrics.roc_curve(y_true, y_pred, pos_label=1)\n",
    "    return(metrics.auc(fpr, tpr))\n",
    "\n",
    "my_scorer = metrics.make_scorer(my_custom_loss_func, greater_is_better=True)"
   ]
  },
  {
   "cell_type": "code",
   "execution_count": 30,
   "metadata": {},
   "outputs": [
    {
     "data": {
      "text/plain": [
       "array([[0.7003432 , 0.2996568 ],\n",
       "       [0.70814118, 0.29185882],\n",
       "       [0.66877286, 0.33122714],\n",
       "       [0.67856605, 0.32143395],\n",
       "       [0.73328988, 0.26671012]])"
      ]
     },
     "execution_count": 30,
     "metadata": {},
     "output_type": "execute_result"
    }
   ],
   "source": [
    "# specify algorithm\n",
    "from sklearn.svm import LinearSVC\n",
    "from sklearn.calibration import CalibratedClassifierCV\n",
    "\n",
    "class_weight = df.contact.value_counts()/len(df)\n",
    "class_weight = {0: 1/class_weight[0], 1: 1/class_weight[1]}\n",
    "\n",
    "algorithm = LinearSVC(class_weight=class_weight, max_iter=5000)\n",
    "\n",
    "# define paramater space\n",
    "space = dict()\n",
    "space['C']: [0.1, 1, 10, 100]\n",
    "space['gamma']: [1, 0.1, 0.01, 0.001]\n",
    "\n",
    "# choose number of folds\n",
    "n_folds = 3\n",
    "\n",
    "# how many times do you want to sample the paramater space?\n",
    "n_samples = 20\n",
    "\n",
    "# perform hyperparameter tuning with randomised grid search, plus\n",
    "# stratified cross validation\n",
    "clf = CalibratedClassifierCV(base_estimator=algorithm)\n",
    "\n",
    "# search for best hyperparameterisation\n",
    "calibrated_model = clf.fit(data, target)\n",
    "\n",
    "# print('Best Calibration: %s' % best_model.best_score_)\n",
    "# print('Best Hyperparameters: %s' % best_model.best_params_)\n",
    "\n",
    "# the first column in preds is P(no contact | date, time, etc.)\n",
    "# the second column in preds is P(contact | data, time, etc.)\n",
    "preds = calibrated_model.predict_proba(data)\n",
    "# show first 5 rows of preds\n",
    "preds[:5]"
   ]
  },
  {
   "cell_type": "code",
   "execution_count": 42,
   "metadata": {},
   "outputs": [
    {
     "data": {
      "text/plain": [
       "array([0, 0, 0, 0, 0])"
      ]
     },
     "execution_count": 42,
     "metadata": {},
     "output_type": "execute_result"
    }
   ],
   "source": [
    "target[:5]"
   ]
  },
  {
   "cell_type": "code",
   "execution_count": 42,
   "metadata": {},
   "outputs": [
    {
     "name": "stdout",
     "output_type": "stream",
     "text": [
      "Best PR AUC score: 0.5291955871829553\n",
      "Best Hyperparameters: {}\n"
     ]
    },
    {
     "data": {
      "text/plain": [
       "array([[0.7003432 , 0.2996568 ],\n",
       "       [0.70814118, 0.29185882],\n",
       "       [0.66877286, 0.33122714],\n",
       "       [0.67856605, 0.32143395],\n",
       "       [0.73328988, 0.26671012]])"
      ]
     },
     "execution_count": 42,
     "metadata": {},
     "output_type": "execute_result"
    }
   ],
   "source": [
    "# specify algorithm\n",
    "from sklearn.svm import LinearSVC\n",
    "from sklearn.model_selection import GridSearchCV\n",
    "from sklearn.calibration import CalibratedClassifierCV\n",
    "\n",
    "class_weight = df.contact.value_counts()/len(df)\n",
    "class_weight = {0: 1/class_weight[0], 1: 1/class_weight[1]}\n",
    "\n",
    "algorithm = LinearSVC(class_weight=class_weight, max_iter=5000)\n",
    "\n",
    "# define paramater space\n",
    "space = dict()\n",
    "space['C']: [0.1, 1, 10, 100]\n",
    "space['gamma']: [1, 0.1, 0.01, 0.001]\n",
    "\n",
    "# choose number of folds\n",
    "n_folds = 3\n",
    "\n",
    "# how many times do you want to sample the paramater space?\n",
    "n_samples = 20\n",
    "\n",
    "# perform hyperparameter tuning with randomised grid search, plus\n",
    "# stratified cross validation\n",
    "clf = GridSearchCV(estimator=algorithm,\n",
    "                  param_grid=space,\n",
    "                  scoring=my_scorer,\n",
    "                  n_jobs=4,\n",
    "                  pre_dispatch='n_jobs*0.95',\n",
    "                  cv=n_folds)\n",
    "\n",
    "# search for best hyperparameterisation\n",
    "best_model = clf.fit(data, target)\n",
    "\n",
    "print('Best PR AUC score: %s' % best_model.best_score_)\n",
    "print('Best Hyperparameters: %s' % best_model.best_params_)\n",
    "\n",
    "calibration_clf = CalibratedClassifierCV(clf.best_estimator_)\n",
    "calibrated_model = calibration_clf.fit(data, target)\n",
    "\n",
    "# the first column in preds is P(no contact | date, time, etc.)\n",
    "# the second column in preds is P(contact | data, time, etc.)\n",
    "preds = calibrated_model.predict_proba(data)\n",
    "# show first 5 rows of preds\n",
    "preds[:5]"
   ]
  },
  {
   "cell_type": "code",
   "execution_count": 43,
   "metadata": {},
   "outputs": [],
   "source": [
    "import pickle\n",
    "filename = 'svc_health_only_model.p'\n",
    "with open(filename, 'wb') as filehandler:\n",
    "    pickle.dump(calibrated_model, filehandler)"
   ]
  },
  {
   "cell_type": "code",
   "execution_count": 44,
   "metadata": {},
   "outputs": [],
   "source": [
    "import pickle\n",
    "filename = 'svc_health_only_model.p'\n",
    "model = pickle.load(open(filename, 'rb'))"
   ]
  },
  {
   "cell_type": "code",
   "execution_count": 45,
   "metadata": {},
   "outputs": [],
   "source": [
    "# sample some of the data not used for training\n",
    "#test_y, test_x = prep(remaining.sample(1000000))\n",
    "\n",
    "# import data\n",
    "df = p.loadData(\"alldata.csv\", clean=False, alldata=True)\n",
    "\n",
    "# remove call records with purpose 'energy'/'family'\n",
    "df = df[(df.purpose == 'health') & ~(df.purpose == 'energy') & ~(df.purpose == 'family')]\n",
    "test_y, test_x = prep(df)"
   ]
  },
  {
   "cell_type": "code",
   "execution_count": 46,
   "metadata": {},
   "outputs": [
    {
     "data": {
      "text/plain": [
       "(1781898, 32)"
      ]
     },
     "execution_count": 46,
     "metadata": {},
     "output_type": "execute_result"
    }
   ],
   "source": [
    "test_x.shape"
   ]
  },
  {
   "cell_type": "code",
   "execution_count": 47,
   "metadata": {},
   "outputs": [],
   "source": [
    "pred_y = model.predict_proba(test_x)[:,1]"
   ]
  },
  {
   "cell_type": "code",
   "execution_count": 48,
   "metadata": {},
   "outputs": [
    {
     "name": "stderr",
     "output_type": "stream",
     "text": [
      "<ipython-input-48-b2adc507a439>:9: RuntimeWarning: invalid value encountered in long_scalars\n",
      "  precision.append(tp/(tp+fp))\n"
     ]
    }
   ],
   "source": [
    "from sklearn.metrics import confusion_matrix\n",
    "precision = []\n",
    "recall = []\n",
    "ps = []\n",
    "baseline = test_y.sum()/len(test_y)\n",
    "for p in np.arange(0,1,0.05):\n",
    "    classify = np.where(pred_y >= p, 1, 0).flatten()\n",
    "    tn, fp, fn, tp = confusion_matrix(test_y, classify).ravel()\n",
    "    precision.append(tp/(tp+fp))\n",
    "    recall.append(tp/(tp+fn))\n",
    "    ps.append(p)"
   ]
  },
  {
   "cell_type": "code",
   "execution_count": 49,
   "metadata": {},
   "outputs": [
    {
     "data": {
      "image/png": "[encoded data removed]",
      "text/plain": [
       "<Figure size 432x288 with 1 Axes>"
      ]
     },
     "metadata": {
      "needs_background": "light"
     },
     "output_type": "display_data"
    }
   ],
   "source": [
    "import matplotlib.pyplot as plt\n",
    "plt.plot(ps, precision, label='precision');\n",
    "plt.plot(ps, recall, label='recall');\n",
    "plt.plot(ps, [baseline]*len(ps), label='baseline');\n",
    "plt.xlabel(\"Classification threshold\")\n",
    "plt.ylabel(\"Precision/recall\")\n",
    "plt.title(\"Precision and recall per classifcation threshold \\n compared to baseline precision\")\n",
    "plt.legend();"
   ]
  },
  {
   "cell_type": "code",
   "execution_count": 50,
   "metadata": {},
   "outputs": [
    {
     "data": {
      "image/png": "[encoded data removed]",
      "text/plain": [
       "<Figure size 432x288 with 1 Axes>"
      ]
     },
     "metadata": {
      "needs_background": "light"
     },
     "output_type": "display_data"
    }
   ],
   "source": [
    "from sklearn import metrics\n",
    "prec, rec, thresholds = metrics.precision_recall_curve(test_y, pred_y.ravel(), pos_label=1)\n",
    "plt.plot(prec, rec)\n",
    "pr_auc = metrics.auc(rec, prec)\n",
    "plt.xlabel(\"Precision\");\n",
    "plt.ylabel(\"Recall\");\n",
    "plt.title(\"Precision recall curve with AUC \" + str(pr_auc)[:6]);"
   ]
  },
  {
   "cell_type": "code",
   "execution_count": 51,
   "metadata": {},
   "outputs": [
    {
     "data": {
      "image/png": "[encoded data removed]",
      "text/plain": [
       "<Figure size 432x288 with 1 Axes>"
      ]
     },
     "metadata": {
      "needs_background": "light"
     },
     "output_type": "display_data"
    }
   ],
   "source": [
    "fpr, tpr, thresholds = metrics.roc_curve(test_y, pred_y.ravel())\n",
    "auc = metrics.auc(fpr, tpr)\n",
    "plt.plot(fpr, tpr);\n",
    "plt.plot([0,1],[0,1], '--', color='grey')\n",
    "plt.xlabel(\"False positive rate\");\n",
    "plt.ylabel(\"True positive rate\");\n",
    "plt.title(\"ROC curve with AUC \" + str(auc)[:6]);"
   ]
  },
  {
   "cell_type": "code",
   "execution_count": 52,
   "metadata": {},
   "outputs": [],
   "source": [
    "import pickle\n",
    "filename = 'svc_health_only.p'\n",
    "with open(filename, 'wb') as filehandler:\n",
    "    pickle.dump(preds, filehandler)"
   ]
  },
  {
   "cell_type": "code",
   "execution_count": 53,
   "metadata": {},
   "outputs": [],
   "source": [
    "filename = 'svc_health_only_target.p'\n",
    "with open(filename, 'wb') as filehandler:\n",
    "    pickle.dump(target, filehandler)"
   ]
  },
  {
   "cell_type": "code",
   "execution_count": null,
   "metadata": {},
   "outputs": [],
   "source": []
  }
 ],
 "metadata": {
  "kernelspec": {
   "display_name": "Python [conda env:Python3] *",
   "language": "python",
   "name": "conda-env-Python3-py"
  },
  "language_info": {
   "codemirror_mode": {
    "name": "ipython",
    "version": 3
   },
   "file_extension": ".py",
   "mimetype": "text/x-python",
   "name": "python",
   "nbconvert_exporter": "python",
   "pygments_lexer": "ipython3",
   "version": "3.8.3"
  }
 },
 "nbformat": 4,
 "nbformat_minor": 2
}
